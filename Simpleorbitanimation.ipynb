{
 "cells": [
  {
   "cell_type": "code",
   "execution_count": 1,
   "id": "20ab5bee",
   "metadata": {},
   "outputs": [],
   "source": [
    "import numpy as np\n",
    "import matplotlib.pyplot as plt\n",
    "from matplotlib.animation import PillowWriter\n",
    "from IPython import display"
   ]
  },
  {
   "cell_type": "code",
   "execution_count": 2,
   "id": "06a97b30",
   "metadata": {},
   "outputs": [
    {
     "data": {
      "text/plain": [
       "Text(0.5, 1.0, 'Semi-Implicit Eulers Method for Simple Orbit')"
      ]
     },
     "execution_count": 2,
     "metadata": {},
     "output_type": "execute_result"
    },
    {
     "data": {
      "image/png": "[encoded data removed]",
      "text/plain": [
       "<Figure size 432x288 with 1 Axes>"
      ]
     },
     "metadata": {
      "needs_background": "light"
     },
     "output_type": "display_data"
    }
   ],
   "source": [
    "fig = plt.figure()\n",
    "l, = plt.plot([],[],'k-')\n",
    "plt.xlim(-5,5)\n",
    "plt.ylim(-5,5)\n",
    "plt.title('Semi-Implicit Eulers Method for Simple Orbit')"
   ]
  },
  {
   "cell_type": "code",
   "execution_count": 3,
   "id": "3228fb1c",
   "metadata": {},
   "outputs": [],
   "source": [
    "def orbital(T):\n",
    "    dt = 0.01\n",
    "    #T = 100\n",
    "    t = np.arange(0,T,dt)\n",
    "    N = len(t)\n",
    "    x,v,y,w = np.zeros(N),np.zeros(N),np.zeros(N),np.zeros(N),\n",
    "    x[0] = 1    #initial condition for x\n",
    "    y[0] = 0    #initial condition for y\n",
    "    v[0] = 0    #initial condition for velocity_x\n",
    "    w[0] = 0.5  #initial condition for velocity_y\n",
    "    for i in range(0,N-1):\n",
    "        t1 = (x[i]**2)+(y[i]**2)\n",
    "        a1 = -(x[i])/(t1**(3/2))\n",
    "        b1 = -(y[i])/(t1**(3/2))\n",
    "        v[i+1] = v[i]+a1*dt\n",
    "        w[i+1] = w[i]+b1*dt\n",
    "        x[i+1] = x[i]+v[i+1]*dt\n",
    "        y[i+1] = y[i]+w[i+1]*dt\n",
    "    return x,y"
   ]
  },
  {
   "cell_type": "code",
   "execution_count": 4,
   "id": "fd87afc7",
   "metadata": {},
   "outputs": [],
   "source": [
    "T = 100    # arbitrary time\n",
    "metadata = dict(title='Orbit',artist='Yao')\n",
    "writer = PillowWriter(fps=30,metadata=metadata)\n",
    "xlist = []\n",
    "ylist = []\n",
    "with writer.saving(fig,'orbit.gif',100):\n",
    "    for i in range(300):        # Increase range for longer runtime\n",
    "        xlist.append(orbital(T)[0][i])\n",
    "        ylist.append(orbital(T)[1][i])\n",
    "        l.set_data(xlist,ylist)\n",
    "        writer.grab_frame()"
   ]
  }
 ],
 "metadata": {
  "kernelspec": {
   "display_name": "Python 3",
   "language": "python",
   "name": "python3"
  },
  "language_info": {
   "codemirror_mode": {
    "name": "ipython",
    "version": 3
   },
   "file_extension": ".py",
   "mimetype": "text/x-python",
   "name": "python",
   "nbconvert_exporter": "python",
   "pygments_lexer": "ipython3",
   "version": "3.8.8"
  }
 },
 "nbformat": 4,
 "nbformat_minor": 5
}
